{
 "cells": [
  {
   "cell_type": "markdown",
   "id": "948ea866",
   "metadata": {},
   "source": [
    "### Data Visualization"
   ]
  },
  {
   "cell_type": "code",
   "execution_count": 22,
   "id": "59fdc854",
   "metadata": {},
   "outputs": [
    {
     "data": {
      "text/html": [
       "<div>\n",
       "<style scoped>\n",
       "    .dataframe tbody tr th:only-of-type {\n",
       "        vertical-align: middle;\n",
       "    }\n",
       "\n",
       "    .dataframe tbody tr th {\n",
       "        vertical-align: top;\n",
       "    }\n",
       "\n",
       "    .dataframe thead th {\n",
       "        text-align: right;\n",
       "    }\n",
       "</style>\n",
       "<table border=\"1\" class=\"dataframe\">\n",
       "  <thead>\n",
       "    <tr style=\"text-align: right;\">\n",
       "      <th></th>\n",
       "      <th>PCTimeStamp</th>\n",
       "      <th>HD01_Ambient WindSpeed Avg. (1)</th>\n",
       "      <th>HD02_Ambient WindSpeed Avg. (2)</th>\n",
       "      <th>HD03_Ambient WindSpeed Avg. (3)</th>\n",
       "      <th>HD04_Ambient WindSpeed Avg. (4)</th>\n",
       "      <th>HD05_Ambient WindSpeed Avg. (5)</th>\n",
       "      <th>HD06_Ambient WindSpeed Avg. (6)</th>\n",
       "      <th>HD07_Ambient WindSpeed Avg. (7)</th>\n",
       "      <th>HD08_Ambient WindSpeed Avg. (8)</th>\n",
       "    </tr>\n",
       "  </thead>\n",
       "  <tbody>\n",
       "    <tr>\n",
       "      <th>0</th>\n",
       "      <td>2024-04-01 0:00:00+07:00</td>\n",
       "      <td>4.293</td>\n",
       "      <td>3.012</td>\n",
       "      <td>4.535</td>\n",
       "      <td>3.637</td>\n",
       "      <td>4.395</td>\n",
       "      <td>3.758</td>\n",
       "      <td>3.484</td>\n",
       "      <td>3.262</td>\n",
       "    </tr>\n",
       "    <tr>\n",
       "      <th>1</th>\n",
       "      <td>2024-04-01 0:10:00+07:00</td>\n",
       "      <td>3.566</td>\n",
       "      <td>1.5</td>\n",
       "      <td>3.102</td>\n",
       "      <td>2.543</td>\n",
       "      <td>3.117</td>\n",
       "      <td>3.23</td>\n",
       "      <td>2.574</td>\n",
       "      <td>2.766</td>\n",
       "    </tr>\n",
       "    <tr>\n",
       "      <th>2</th>\n",
       "      <td>2024-04-01 0:20:00+07:00</td>\n",
       "      <td>3.898</td>\n",
       "      <td>1.965</td>\n",
       "      <td>1.863</td>\n",
       "      <td>2.402</td>\n",
       "      <td>2.41</td>\n",
       "      <td>2.215</td>\n",
       "      <td>1.832</td>\n",
       "      <td>2.148</td>\n",
       "    </tr>\n",
       "    <tr>\n",
       "      <th>3</th>\n",
       "      <td>2024-04-01 0:30:00+07:00</td>\n",
       "      <td>3.762</td>\n",
       "      <td>3.242</td>\n",
       "      <td>2.824</td>\n",
       "      <td>3.008</td>\n",
       "      <td>2.254</td>\n",
       "      <td>2.461</td>\n",
       "      <td>2.258</td>\n",
       "      <td>2.207</td>\n",
       "    </tr>\n",
       "    <tr>\n",
       "      <th>4</th>\n",
       "      <td>2024-04-01 0:40:00+07:00</td>\n",
       "      <td>3.691</td>\n",
       "      <td>3.902</td>\n",
       "      <td>2.176</td>\n",
       "      <td>3.512</td>\n",
       "      <td>2.387</td>\n",
       "      <td>3.168</td>\n",
       "      <td>3.094</td>\n",
       "      <td>2.207</td>\n",
       "    </tr>\n",
       "  </tbody>\n",
       "</table>\n",
       "</div>"
      ],
      "text/plain": [
       "                PCTimeStamp HD01_Ambient WindSpeed Avg. (1)  \\\n",
       "0  2024-04-01 0:00:00+07:00                           4.293   \n",
       "1  2024-04-01 0:10:00+07:00                           3.566   \n",
       "2  2024-04-01 0:20:00+07:00                           3.898   \n",
       "3  2024-04-01 0:30:00+07:00                           3.762   \n",
       "4  2024-04-01 0:40:00+07:00                           3.691   \n",
       "\n",
       "  HD02_Ambient WindSpeed Avg. (2) HD03_Ambient WindSpeed Avg. (3)  \\\n",
       "0                           3.012                           4.535   \n",
       "1                             1.5                           3.102   \n",
       "2                           1.965                           1.863   \n",
       "3                           3.242                           2.824   \n",
       "4                           3.902                           2.176   \n",
       "\n",
       "  HD04_Ambient WindSpeed Avg. (4) HD05_Ambient WindSpeed Avg. (5)  \\\n",
       "0                           3.637                           4.395   \n",
       "1                           2.543                           3.117   \n",
       "2                           2.402                            2.41   \n",
       "3                           3.008                           2.254   \n",
       "4                           3.512                           2.387   \n",
       "\n",
       "  HD06_Ambient WindSpeed Avg. (6) HD07_Ambient WindSpeed Avg. (7)  \\\n",
       "0                           3.758                           3.484   \n",
       "1                            3.23                           2.574   \n",
       "2                           2.215                           1.832   \n",
       "3                           2.461                           2.258   \n",
       "4                           3.168                           3.094   \n",
       "\n",
       "   HD08_Ambient WindSpeed Avg. (8)  \n",
       "0                            3.262  \n",
       "1                            2.766  \n",
       "2                            2.148  \n",
       "3                            2.207  \n",
       "4                            2.207  "
      ]
     },
     "execution_count": 22,
     "metadata": {},
     "output_type": "execute_result"
    }
   ],
   "source": [
    "import pandas as pd # type: ignore\n",
    "real_wind_df = pd.read_csv('real-data/real_windspeed.csv')\n",
    "real_wind_df.head(5)"
   ]
  },
  {
   "cell_type": "code",
   "execution_count": 23,
   "id": "6af4585d",
   "metadata": {},
   "outputs": [],
   "source": [
    "real_wind_df['PCTimeStamp'] = pd.to_datetime(real_wind_df['PCTimeStamp'])"
   ]
  },
  {
   "cell_type": "code",
   "execution_count": 24,
   "id": "0f0adf08",
   "metadata": {},
   "outputs": [
    {
     "name": "stdout",
     "output_type": "stream",
     "text": [
      "0      2024-04-01 00:00:00+07:00\n",
      "1      2024-04-01 00:10:00+07:00\n",
      "2      2024-04-01 00:20:00+07:00\n",
      "3      2024-04-01 00:30:00+07:00\n",
      "4      2024-04-01 00:40:00+07:00\n",
      "                  ...           \n",
      "1291   2024-04-09 23:10:00+07:00\n",
      "1292   2024-04-09 23:20:00+07:00\n",
      "1293   2024-04-09 23:30:00+07:00\n",
      "1294   2024-04-09 23:40:00+07:00\n",
      "1295   2024-04-09 23:50:00+07:00\n",
      "Name: PCTimeStamp, Length: 1296, dtype: datetime64[ns, UTC+07:00]\n"
     ]
    }
   ],
   "source": [
    "print(real_wind_df[\"PCTimeStamp\"])"
   ]
  },
  {
   "cell_type": "code",
   "execution_count": 10,
   "id": "b44b1eeb",
   "metadata": {},
   "outputs": [
    {
     "name": "stdout",
     "output_type": "stream",
     "text": [
      "0        4.293\n",
      "1        3.566\n",
      "2        3.898\n",
      "3        3.762\n",
      "4        3.691\n",
      "         ...  \n",
      "1291     8.445\n",
      "1292     7.219\n",
      "1293     9.613\n",
      "1294    10.035\n",
      "1295     9.516\n",
      "Name: HD01_Ambient WindSpeed Avg. (1), Length: 1296, dtype: object\n"
     ]
    }
   ],
   "source": [
    "print(real_wind_df[\"HD01_Ambient WindSpeed Avg. (1)\"])"
   ]
  }
 ],
 "metadata": {
  "kernelspec": {
   "display_name": "Python 3 (ipykernel)",
   "language": "python",
   "name": "python3"
  },
  "language_info": {
   "codemirror_mode": {
    "name": "ipython",
    "version": 3
   },
   "file_extension": ".py",
   "mimetype": "text/x-python",
   "name": "python",
   "nbconvert_exporter": "python",
   "pygments_lexer": "ipython3",
   "version": "3.10.13"
  }
 },
 "nbformat": 4,
 "nbformat_minor": 5
}
